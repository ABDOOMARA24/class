{
 "cells": [
  {
   "cell_type": "code",
   "execution_count": 14,
   "id": "0295fdaf",
   "metadata": {},
   "outputs": [
    {
     "name": "stdout",
     "output_type": "stream",
     "text": [
      "(1, 2, 3)\n"
     ]
    }
   ],
   "source": [
    "#q1\n",
    "class Point3D(object):\n",
    "    def __init__(self, x, y, z):\n",
    "        self.x = x\n",
    "        self.y = y\n",
    "        self.z = z\n",
    "    def __repr__(self):\n",
    "        return \"(%d, %d, %d)\" % (self.x, self.y, self.z)\n",
    "        \n",
    "my_point = Point3D(1,2,3)\n",
    "\n",
    "print (my_point)"
   ]
  },
  {
   "cell_type": "code",
   "execution_count": 16,
   "id": "44d75b58",
   "metadata": {},
   "outputs": [
    {
     "name": "stdout",
     "output_type": "stream",
     "text": [
      "12\n",
      "14\n"
     ]
    }
   ],
   "source": [
    "#q2\n",
    "class Rectangle:\n",
    "    def __init__(self,length,width):\n",
    "        self.length =length\n",
    "        self.width =width\n",
    "    def area(self):\n",
    "        return self.length * self.width\n",
    "    def perimeter(self):\n",
    "        return 2*(self.length+self.width)\n",
    "    \n",
    "rec1 = Rectangle(3,4)\n",
    "print (rec1.area())\n",
    "print (rec1.perimeter())"
   ]
  },
  {
   "cell_type": "code",
   "execution_count": 18,
   "id": "04a1b931",
   "metadata": {},
   "outputs": [
    {
     "name": "stdout",
     "output_type": "stream",
     "text": [
      "200.96\n",
      "50.24\n"
     ]
    }
   ],
   "source": [
    "#q3\n",
    "class Circle():\n",
    "    def __init__(self, r):\n",
    "        self.radius = r\n",
    "\n",
    "    def area(self):\n",
    "        return self.radius**2*3.14\n",
    "    \n",
    "    def perimeter(self):\n",
    "        return 2*self.radius*3.14\n",
    "\n",
    "NewCircle = Circle(8)\n",
    "print(NewCircle.area())\n",
    "print(NewCircle.perimeter())"
   ]
  },
  {
   "cell_type": "code",
   "execution_count": 25,
   "id": "6d8de578",
   "metadata": {},
   "outputs": [
    {
     "ename": "SyntaxError",
     "evalue": "invalid syntax (445853722.py, line 3)",
     "output_type": "error",
     "traceback": [
      "\u001b[1;36m  File \u001b[1;32m\"C:\\Users\\Baker\\AppData\\Local\\Temp\\ipykernel_11396\\445853722.py\"\u001b[1;36m, line \u001b[1;32m3\u001b[0m\n\u001b[1;33m    def __init__(self, name, account_number)\u001b[0m\n\u001b[1;37m                                            ^\u001b[0m\n\u001b[1;31mSyntaxError\u001b[0m\u001b[1;31m:\u001b[0m invalid syntax\n"
     ]
    }
   ],
   "source": [
    "#q4\n",
    "class Bank:\n",
    "    def __init__(self, name, account_number)\n",
    "    self.name =name \n",
    "    self.account_number =account_number \n",
    "    \n",
    "    def deposit(self):\n",
    "        return self.name \n",
    "    def withdraw(self):\n",
    "        return self.account_number \n",
    "    \n",
    "bank1= Bank(Abdoo,eleven)\n",
    "print (bank1.deposit())\n",
    "print (bank1.withdraw())"
   ]
  },
  {
   "cell_type": "code",
   "execution_count": null,
   "id": "031cc26b",
   "metadata": {},
   "outputs": [],
   "source": []
  }
 ],
 "metadata": {
  "kernelspec": {
   "display_name": "Python 3 (ipykernel)",
   "language": "python",
   "name": "python3"
  },
  "language_info": {
   "codemirror_mode": {
    "name": "ipython",
    "version": 3
   },
   "file_extension": ".py",
   "mimetype": "text/x-python",
   "name": "python",
   "nbconvert_exporter": "python",
   "pygments_lexer": "ipython3",
   "version": "3.9.13"
  }
 },
 "nbformat": 4,
 "nbformat_minor": 5
}
